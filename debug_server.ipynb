{
 "cells": [
  {
   "cell_type": "markdown",
   "metadata": {},
   "source": [
    "## This is a bash kernel, not a python one.\n",
    "Please install a bash kernel before running this."
   ]
  },
  {
   "cell_type": "markdown",
   "metadata": {},
   "source": [
    "To install the bash kernel, open a python notebook on Jupyter and execute the following commands -"
   ]
  },
  {
   "cell_type": "markdown",
   "metadata": {},
   "source": [
    "!pip install bash_kernel\n",
    "\n",
    "!python -m bash_kernel.install\n",
    "\n",
    "!source deactivate py3k"
   ]
  },
  {
   "cell_type": "markdown",
   "metadata": {},
   "source": [
    "## Then change the kernel of this file using the \"Kernel\" tab on the top\n",
    "\n",
    "And then choose \"Bash\" in the \"Change Kernel\" option."
   ]
  },
  {
   "cell_type": "markdown",
   "metadata": {},
   "source": [
    "## We also need the \"ptvsd\" python package. Please install this if not already installed using the following command"
   ]
  },
  {
   "cell_type": "code",
   "execution_count": 3,
   "metadata": {},
   "outputs": [
    {
     "name": "stdout",
     "output_type": "stream",
     "text": [
      "Collecting ptvsd\n",
      "\u001b[?25l  Downloading https://files.pythonhosted.org/packages/a3/c9/b9dff94aa7fafcdd761e4159c23322a807469bc59bb64f5d9eb298570984/ptvsd-4.3.2-cp36-cp36m-manylinux1_x86_64.whl (5.9MB)\n",
      "\u001b[K    100% |████████████████████████████████| 5.9MB 7.8MB/s eta 0:00:01\n",
      "\u001b[?25hInstalling collected packages: ptvsd\n",
      "Successfully installed ptvsd-4.3.2\n"
     ]
    }
   ],
   "source": [
    "#pip install ptvsd"
   ]
  },
  {
   "cell_type": "markdown",
   "metadata": {},
   "source": [
    "## Rename the \"file_under_test\" variable to the file that you want to test"
   ]
  },
  {
   "cell_type": "code",
   "execution_count": 4,
   "metadata": {},
   "outputs": [],
   "source": [
    "file_under_test=myUser.py"
   ]
  },
  {
   "cell_type": "markdown",
   "metadata": {},
   "source": [
    "## Run this command to run the file with the debugging enabled\n",
    "This runs a script file with debugging enabled, but without waiting for the debugging client to attach (i.e. code starts executing immediately):"
   ]
  },
  {
   "cell_type": "code",
   "execution_count": 17,
   "metadata": {},
   "outputs": [
    {
     "name": "stdout",
     "output_type": "stream",
     "text": [
      "Hello, I'm test1, test1@mail.com\n",
      "Hello, I'm test2, test2@notmail.com\n",
      "Hello, I'm test3, test3@somewhatmail.com\n"
     ]
    }
   ],
   "source": [
    "python -m ptvsd --host localhost --port 5678 $file_under_test"
   ]
  },
  {
   "cell_type": "markdown",
   "metadata": {},
   "source": [
    "## Run this command to wait until the debugging client attaches before running your code  (use the --wait switch.)"
   ]
  },
  {
   "cell_type": "markdown",
   "metadata": {},
   "source": [
    "**Keep this running while executing the clientClass notebook.**"
   ]
  },
  {
   "cell_type": "code",
   "execution_count": 16,
   "metadata": {},
   "outputs": [
    {
     "name": "stdout",
     "output_type": "stream",
     "text": [
      "Hello, I'm test1, test1@mail.com\n",
      "Hello, I'm test2, test2@notmail.com\n",
      "Hello, I'm test3, test3@somewhatmail.com\n"
     ]
    }
   ],
   "source": [
    "python -m ptvsd --host localhost --port 5678 --wait $file_under_test"
   ]
  },
  {
   "cell_type": "code",
   "execution_count": null,
   "metadata": {},
   "outputs": [],
   "source": []
  }
 ],
 "metadata": {
  "kernelspec": {
   "display_name": "Bash",
   "language": "bash",
   "name": "bash"
  },
  "language_info": {
   "codemirror_mode": "shell",
   "file_extension": ".sh",
   "mimetype": "text/x-sh",
   "name": "bash"
  },
  "toc": {
   "base_numbering": 1,
   "nav_menu": {},
   "number_sections": true,
   "sideBar": true,
   "skip_h1_title": false,
   "title_cell": "Table of Contents",
   "title_sidebar": "Contents",
   "toc_cell": false,
   "toc_position": {},
   "toc_section_display": true,
   "toc_window_display": false
  },
  "varInspector": {
   "cols": {
    "lenName": 16,
    "lenType": 16,
    "lenVar": 40
   },
   "kernels_config": {
    "python": {
     "delete_cmd_postfix": "",
     "delete_cmd_prefix": "del ",
     "library": "var_list.py",
     "varRefreshCmd": "print(var_dic_list())"
    },
    "r": {
     "delete_cmd_postfix": ") ",
     "delete_cmd_prefix": "rm(",
     "library": "var_list.r",
     "varRefreshCmd": "cat(var_dic_list()) "
    }
   },
   "types_to_exclude": [
    "module",
    "function",
    "builtin_function_or_method",
    "instance",
    "_Feature"
   ],
   "window_display": false
  }
 },
 "nbformat": 4,
 "nbformat_minor": 2
}
