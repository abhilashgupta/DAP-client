{
 "cells": [
  {
   "cell_type": "markdown",
   "metadata": {},
   "source": [
    "# Prerequisites"
   ]
  },
  {
   "cell_type": "markdown",
   "metadata": {
    "code_folding": []
   },
   "source": [
    "## You need to install bash terminal on your jupyter server by using the following command (if you haven't already ).\n",
    "This is also mentioned in the debug_server.ipynb notebook. Just uncomment the following lines when executing it to install the bash kernel"
   ]
  },
  {
   "cell_type": "code",
   "execution_count": 87,
   "metadata": {},
   "outputs": [],
   "source": [
    "# !pip install bash_kernel\n",
    "# !python -m bash_kernel.install\n",
    "# !source deactivate py3k"
   ]
  },
  {
   "cell_type": "markdown",
   "metadata": {},
   "source": [
    "## Please run the debug server by going through the instructions and executing accordingly in the debug_server.ipynb notebook"
   ]
  },
  {
   "cell_type": "markdown",
   "metadata": {},
   "source": [
    "**ptvsd** is a python module used by Microsoft Visual Studio Code (VSCode) to debug python code. We will be reusing that as our python debug server. \n",
    "\n",
    "Obviously, that makes this a dependency. The command for installation is in the debug_server.ipynb notebook. Just uncomment that and run it to install ptvsd\n"
   ]
  },
  {
   "cell_type": "markdown",
   "metadata": {},
   "source": [
    "## Terminology"
   ]
  },
  {
   "cell_type": "markdown",
   "metadata": {},
   "source": [
    "The following terminology will be used in the notebook."
   ]
  },
  {
   "cell_type": "markdown",
   "metadata": {},
   "source": [
    "- Debugger - Debug Adapter/Debug Server -> **ptvsd** in our case\n",
    "- Debuggee - The process that the debugger is debugging\n",
    "- Debug client - this file that's communicating with the debugger, can be any IDE/editor too"
   ]
  },
  {
   "cell_type": "markdown",
   "metadata": {},
   "source": [
    "## About Debug Adapter Protocol"
   ]
  },
  {
   "cell_type": "markdown",
   "metadata": {},
   "source": [
    "Details about Debug Adapter Protocol (DAP) can be found at https://microsoft.github.io/debug-adapter-protocol/overview. It is a json based wire-protocol that communicates over sockets."
   ]
  },
  {
   "cell_type": "markdown",
   "metadata": {},
   "source": [
    "DAP requests from the specification supported by ***ptvsd*** in alphabetical order (of https://microsoft.github.io/debug-adapter-protocol/specification ) - \n",
    "\n",
    "- Attach\n",
    "- Completions\n",
    "- ConfigurationDone\n",
    "- Continue\n",
    "- Disconnect\n",
    "- Evaluate\n",
    "- ExceptionInfo\n",
    "- Goto\n",
    "- GotoTargets\n",
    "- Initialize\n",
    "- Launch\n",
    "- Modules\n",
    "- Next\n",
    "- Pause\n",
    "- Scopes\n",
    "- SetBreakpoints\n",
    "- SetExceptionBreakpoints\n",
    "- SetExpression\n",
    "- SetVariable\n",
    "- Source\n",
    "- StackTrace\n",
    "- StepBack\n",
    "- StepIn\n",
    "- StepOut\n",
    "- Terminate\n",
    "- Threads\n",
    "- Variables"
   ]
  },
  {
   "cell_type": "markdown",
   "metadata": {},
   "source": [
    "# Programming a communicator class that communicates with the Debugger."
   ]
  },
  {
   "cell_type": "code",
   "execution_count": 88,
   "metadata": {},
   "outputs": [],
   "source": [
    "import json                                                                     \n",
    "import socket                                                                   \n",
    "from pprint import pprint                                       \n",
    "import time   \n",
    "import random"
   ]
  },
  {
   "cell_type": "markdown",
   "metadata": {},
   "source": [
    "## connectionClass"
   ]
  },
  {
   "cell_type": "markdown",
   "metadata": {},
   "source": [
    "**connectionClass** handles the client side socket and its connection to the Debugger"
   ]
  },
  {
   "cell_type": "markdown",
   "metadata": {},
   "source": [
    "The following methods of the class do the following:\n",
    "- **init** - initialises the socket and connects to the debugger\n",
    "- **connect** - connects to the debugger\n",
    "- **parse_all_messages** - takes in the complete message received and parses for individual messages sent from the debugger\n",
    "- **recvMessage** - reads the socket fd, calls parse_all_messages and pretty prints the output on the screen (for now)\n",
    "- **sendMessage** - takes in a JSON object, serializes it, adds DAP headers and sends it on the socket fd. Sleeps for one second after sending the message to allow for all responded messages to arrive.\n",
    "- **doRequest** - adds in required parameters - seq (no) & type to the json obect before calling sendMessage.  \n",
    "- **close_connection** - Does one last read of the socket fd and closes the socket connection\n",
    "- **reset_connection** - closes the connection and then opens up a new connection to the debugger"
   ]
  },
  {
   "cell_type": "code",
   "execution_count": 89,
   "metadata": {},
   "outputs": [],
   "source": [
    "class connectionClass:\n",
    "    \n",
    "    def __init__(self, hostname='localhost', port=5678, timeout=5, sock=None):\n",
    "        self.msg_id = random.randint(1, 500) #each request increments the value\n",
    "        self.connection_no = 1\n",
    "        self.mysocket = socket.socket(socket.AF_INET, socket.SOCK_STREAM)\n",
    "        self.port = port\n",
    "        self.hostname = hostname\n",
    "        self.mysocket.settimeout(timeout)\n",
    "        self.connect()\n",
    "    \n",
    "        \n",
    "    def connect(self):\n",
    "        self.mysocket.connect((self.hostname, self.port))\n",
    "        self.connection_no += 1\n",
    "        time.sleep(1)\n",
    "        #the debug server responds to successful connection\n",
    "        self.recvMessage(\"connection no {} \".format(self.connection_no))\n",
    "    \n",
    "    def parse_all_messages(self, msg_bytes):\n",
    "        msg_str = msg_bytes.decode('utf-8')\n",
    "        split_delimiter = 'Content-Length: '\n",
    "        msg_list = msg_str.split(split_delimiter)\n",
    "        if (msg_list[0] == ''):\n",
    "            msg_list = msg_list[1:]\n",
    "        parsed_msg_list = [msg.split('\\r\\n\\r\\n') for msg in msg_list]\n",
    "        for index in range(len(parsed_msg_list)):\n",
    "            parsed_msg_list[index][0] = split_delimiter + parsed_msg_list[index][0]  \n",
    "        return parsed_msg_list\n",
    "\n",
    "    #for now, this function just prints the received msg, \n",
    "    #it can be modified to return the data\n",
    "    def recvMessage(self, func_name):\n",
    "        sock = self.mysocket\n",
    "        try: \n",
    "            recv_data = sock.recv(1024*1024)\n",
    "        except socket.timeout:                                                          \n",
    "            print (\"Timeout. Nothing was received at\", func_name)\n",
    "            return\n",
    "        list_of_msgs = self.parse_all_messages(recv_data)\n",
    "        for msg in list_of_msgs:\n",
    "            print (\"Received data:\")\n",
    "            print (msg[0])\n",
    "            try:\n",
    "                pprint(json.loads(msg[1]))\n",
    "            except:\n",
    "                print (\"json.loads failed in recvMessage, printing entire message\")\n",
    "                print(msg)\n",
    "            print()\n",
    "    \n",
    "    def sendMessage(self, msg):\n",
    "        sock = self.mysocket\n",
    "        s_msg = json.dumps(msg)                                                       \n",
    "        data = 'Content-Length: {0}\\r\\n\\r\\n{1}'.format( len( s_msg ), s_msg )\n",
    "        print ('Sending data: Content-Length: {0}'.format(len(s_msg)))\n",
    "        pprint(msg)\n",
    "        print()\n",
    "        data = bytes(data, 'utf-8')                                                   \n",
    "        sock.send(data)                                                                  \n",
    "        time.sleep(1)\n",
    "    \n",
    "    def doRequest(self, msg):                                                                                                                  \n",
    "        this_id = self.msg_id                                                     \n",
    "        self.msg_id += 1                                                          \n",
    "        msg[ 'seq' ] = this_id                                                        \n",
    "        msg[ 'type' ] = 'request'                                                     \n",
    "        self.sendMessage(msg)\n",
    "    \n",
    "    def close_connection(self):\n",
    "        self.recvMessage(\"Cleanup\")\n",
    "        self.mysocket.close()\n",
    "    \n",
    "    def reset_connection(self):\n",
    "        self.close_connection()\n",
    "        self.mysocket = socket.socket(socket.AF_INET, socket.SOCK_STREAM)\n",
    "        self.connect()\n",
    "        \n",
    "        "
   ]
  },
  {
   "cell_type": "markdown",
   "metadata": {},
   "source": [
    "## clientClass"
   ]
  },
  {
   "cell_type": "markdown",
   "metadata": {},
   "source": [
    "### clientClass provides method APIs for the following DAP requests\n",
    "\n",
    "The parameters are also shown with default values for them, if any"
   ]
  },
  {
   "cell_type": "markdown",
   "metadata": {},
   "source": [
    "- **attach_to_server()** - method API for the **attach** request.\n",
    "- **initialize(clientID=None)** - method API for the **initialize** request.\n",
    "- **set_breakpoints(line_list)** - method API for the **set_breakpoints** request. This takes in a list of line numbers where to set the breakpoints. To delete all breakpoints, send an empty list. To remove one particular breakpoint, send a list with all but that line number. Each call to set_breakpoints updates the list of breakpoints.\n",
    "- **configurationDone** - method API for the **configurationDone** request.\n",
    "- **pause(threadID=1)** - method API for the **pause** request. This takes in the threadID which to pause. Default is 1.\n",
    "- **next_step(threadID=1)** - method API for the **next** request. This takes in the threadID on which to do \"next\". Default is 1.\n",
    "- **continue_execution(threadID=1)** - method API for the **continue** request. This takes in the threadID which to pause. Default is 1.\n",
    "- **get_threads** - method API for the **threads** request.\n",
    "- **get_stack_trace(threadID=1)** - method API for the **stacktrace** request. This takes in the threadID which to pause. Default is 1.\n",
    "- **get_scopes(frameID)** - method API for the **scopes** request. This takes in the frameID of the stacktrace whose variables we are to observe.\n",
    "- **get_variables(variable_ref)** - method API for the **variables** request. This takes in the variablesReference value of the variable whose value we are to observe.\n",
    "- **step_in** - method API for the **stepIn** request. This takes in the threadID in which to \"stepIn\" to. Default is 1. Note that if there's nothing to step into at a paused instance, this behaves identical to \"next\".\n",
    "- **step_out** - method API for the **stepOut** request. This takes in the threadID in which to \"stepOut\" of. Default is 1. Note that if the frame is at the topmost level function, this behaves a bit weirdly, so take care when to call step_out.\n",
    "- **read_server(cleanup=False)** - method to read from the server without sending any request. If cleanup is True, closes the socket after the read.\n",
    "\n",
    "**Note** - For set_breakpoints, next_step, continue_execution, get_stack_trace, get_scopes, get_variables, the thread we are querying needs to be paused. Threads are paused (or stopped in DAP's lingo) due to one of these reasons (and some more) -      'step', 'breakpoint', 'exception', 'pause', 'entry', 'goto', 'function breakpoint', 'data breakpoint', etc.\n"
   ]
  },
  {
   "cell_type": "code",
   "execution_count": 90,
   "metadata": {},
   "outputs": [],
   "source": [
    "class clientClass:   \n",
    "    \n",
    "    def __init__(self, filename, hostname='localhost', port=5678, timeout=5):\n",
    "        self.dbgfile = filename\n",
    "        self.connection = connectionClass(hostname, port, timeout)\n",
    "      \n",
    "    def attach_to_server(self):\n",
    "        self.connection.doRequest( \n",
    "            {'command': 'attach',                                                      \n",
    "             'arguments': {                                                           \n",
    "               'name': 'client_class',                                                         \n",
    "             },  \n",
    "            } \n",
    "        )                                                                          \n",
    "        self.connection.recvMessage(\"attach\")\n",
    "    \n",
    "    def initialize(self, clientID=None):\n",
    "        if clientID is None:\n",
    "            clientID = self.__class__.__name__\n",
    "        self.connection.doRequest( {                                                                    \n",
    "            'command': 'initialize',                                                  \n",
    "            'arguments': {                                                            \n",
    "                'adapterID': 'pydevd',\n",
    "                'clientID': clientID,\n",
    "                'clientName':'client.py',                                                  \n",
    "                'linesStartAt1': True,                                                  \n",
    "                'columnsStartAt1': True,                                                \n",
    "                'pathFormat': 'path',\n",
    "                'supportsVariableType': True,\n",
    "                'supportsVariablePaging': False,\n",
    "                'supportsRunInTerminalRequest': True\n",
    "            },                                                                        \n",
    "        } )\n",
    "        self.connection.recvMessage(\"initialize\")\n",
    "    \n",
    "    def set_breakpoints(self, line_list):\n",
    "        bp_list = []\n",
    "        for line in line_list:\n",
    "            bp_list.append({'line':line})\n",
    "        \n",
    "        self.initialize()\n",
    "        \n",
    "        self.connection.doRequest( {                                                                    \n",
    "              'command': 'setBreakpoints',                                              \n",
    "              'arguments': {                                                            \n",
    "                'source':{'path': self.dbgfile}, #could alternately give sourceReference.\n",
    "                'breakpoints':bp_list,                                                                                                        \n",
    "              },                                                                        \n",
    "        } )\n",
    "        self.connection.recvMessage(\"setBreakpoints\")\n",
    "        \n",
    "        self.configurationDone()\n",
    "\n",
    "    def configurationDone(self):\n",
    "        self.connection.doRequest( {                                                                    \n",
    "              'command': 'configurationDone',                                                                                                                         \n",
    "            } ) \n",
    "        self.connection.recvMessage(\"configurationDone\")\n",
    "        \n",
    "    def pause(self, threadID=1):\n",
    "        #The pause request suspends the debuggee.\n",
    "        #Not sure when to use it\n",
    "        self.connection.doRequest( {                                                                    \n",
    "              'command': 'pause',                                                  \n",
    "              'arguments': {                                                            \n",
    "                'threadId': threadID,                                                  \n",
    "              },                                                                        \n",
    "            } )                                                                         \n",
    "        self.connection.recvMessage(\"pause\")\n",
    "    \n",
    "    def next_step(self, threadID=1):\n",
    "        #Only makes sense when execution of the debuggee is paused.\n",
    "        #executes one step and then pauses again\n",
    "        self.connection.doRequest( {                                                                    \n",
    "            'command': 'next',\n",
    "                'arguments': {                                                            \n",
    "            'threadId': threadID,                                                          \n",
    "            },                                                                        \n",
    "        } )\n",
    "        self.connection.recvMessage(\"next\")\n",
    "    \n",
    "    def continue_execution(self, threadID=1):\n",
    "        #Only makes sense when execution of the debuggee is paused.\n",
    "        #executes one step and then pauses again\n",
    "        self.connection.doRequest( {                                                                    \n",
    "            'command': 'continue',\n",
    "                'arguments': {                                                            \n",
    "            'threadId': threadID,                                                          \n",
    "            },                                                                        \n",
    "        } )\n",
    "        self.connection.recvMessage(\"continue\")\n",
    "    \n",
    "    def get_threads(self):\n",
    "        self.connection.DoRequest( {                                                                    \n",
    "          'command': 'threads',                                                     \n",
    "        } )\n",
    "        self.connection.recvMessage(\"threads\")\n",
    "    \n",
    "    def get_stack_trace(self, threadID=1):\n",
    "        self.connection.doRequest( {                                                                    \n",
    "          'command': 'stackTrace',\n",
    "                'arguments': {                                                            \n",
    "            'threadId': threadID,                                                          \n",
    "          },                                                                        \n",
    "        } )\n",
    "        self.connection.recvMessage(\"stackTrace\")\n",
    "    \n",
    "    def get_scopes(self, frameID):\n",
    "        self.connection.doRequest( {                                                                    \n",
    "          'command': 'scopes',\n",
    "            'arguments': {                                                            \n",
    "            'frameId': frameID,                                                          \n",
    "          },                                                                        \n",
    "        } )\n",
    "        self.connection.recvMessage(\"scopes\")\n",
    "    \n",
    "    def get_variables(self, variable_ref):\n",
    "        self.connection.doRequest( {                                                                    \n",
    "            'command': 'variables',\n",
    "                'arguments': {                                                            \n",
    "                    'variablesReference': variable_ref,\n",
    "          },                                                                        \n",
    "        } )\n",
    "        self.connection.recvMessage(\"variables\")  \n",
    "        \n",
    "    def step_in(self, threadID=1):\n",
    "        self.connection.doRequest( {                                                                    \n",
    "            'command': 'stepIn',\n",
    "                'arguments': {                                                            \n",
    "                    'threadId': threadID,\n",
    "                },                                                                        \n",
    "        } )\n",
    "        self.connection.recvMessage(\"stepIn\")\n",
    "    \n",
    "    def step_out(self, threadID=1):\n",
    "        self.connection.doRequest( {                                                                    \n",
    "            'command': 'stepOut',\n",
    "                'arguments': {                                                            \n",
    "                    'threadId': threadID,\n",
    "                },                                                                        \n",
    "        } )\n",
    "        self.connection.recvMessage(\"stepOut\")\n",
    "    \n",
    "    def read_server(self, cleanup=False):\n",
    "        if cleanup:\n",
    "            self.connection.close_connection()\n",
    "        else:\n",
    "            self.connection.recvMessage(\"End of execution\")"
   ]
  },
  {
   "cell_type": "markdown",
   "metadata": {},
   "source": [
    "# Testing the clientClass and connectionClass on a sample test file"
   ]
  },
  {
   "cell_type": "markdown",
   "metadata": {},
   "source": [
    "## myUser.py\n",
    "We will be using the file myUser.py as a debuggee. Here is a view on what myUser.py contains"
   ]
  },
  {
   "cell_type": "code",
   "execution_count": 118,
   "metadata": {},
   "outputs": [],
   "source": [
    "#Code duplication because I wasn't sure how exactly to import it from the fuzzingbook package.\n",
    "#improved upon the fuzzingbook code with line numbers. maybe push this in?\n",
    "\n",
    "from pygments import highlight, lexers, formatters\n",
    "from pygments.lexers import get_lexer_for_filename\n",
    "\n",
    "#will figure this out.\n",
    "def print_file(filename, lexer=None):\n",
    "    contents = open(filename, \"rb\").read().decode('utf-8')\n",
    "    if lexer is None:\n",
    "        lexer = get_lexer_for_filename(filename)\n",
    "    \n",
    "    colorful_contents = highlight(contents, lexer, formatters.TerminalFormatter())\n",
    "    contents_with_line_no = colorful_contents.split(\"\\n\")\n",
    "    no_of_lines = len(contents_with_line_no)\n",
    "    size_of_linesno = len(str(no_of_lines))\n",
    "\n",
    "    for i in range(no_of_lines):\n",
    "        contents_with_line_no[i] = ('{0:' + str(size_of_linesno) + '}').format(i) + \" \" + contents_with_line_no[i]\n",
    "    contents_with_line_no = '\\n'.join(contents_with_line_no)\n",
    "    print(contents_with_line_no, end=\"\")"
   ]
  },
  {
   "cell_type": "code",
   "execution_count": 119,
   "metadata": {},
   "outputs": [
    {
     "name": "stdout",
     "output_type": "stream",
     "text": [
      " 0 \u001b[34mclass\u001b[39;49;00m \u001b[04m\u001b[32mUser\u001b[39;49;00m:\n",
      " 1     \u001b[34mdef\u001b[39;49;00m \u001b[32m__init__\u001b[39;49;00m(\u001b[36mself\u001b[39;49;00m, name, email):\n",
      " 2         \u001b[36mself\u001b[39;49;00m._name = name\n",
      " 3         \u001b[36mself\u001b[39;49;00m._email = email\n",
      " 4     \n",
      " 5     \u001b[34mdef\u001b[39;49;00m \u001b[32mget_name\u001b[39;49;00m(\u001b[36mself\u001b[39;49;00m):\n",
      " 6         \u001b[34mreturn\u001b[39;49;00m \u001b[36mself\u001b[39;49;00m._name\n",
      " 7     \n",
      " 8     \u001b[34mdef\u001b[39;49;00m \u001b[32mget_email\u001b[39;49;00m(\u001b[36mself\u001b[39;49;00m):\n",
      " 9         \u001b[34mreturn\u001b[39;49;00m \u001b[36mself\u001b[39;49;00m._email\n",
      "10         \n",
      "11     \u001b[34mdef\u001b[39;49;00m \u001b[32mdo_something\u001b[39;49;00m(\u001b[36mself\u001b[39;49;00m):\n",
      "12         \u001b[34mprint\u001b[39;49;00m (\u001b[33m\"\u001b[39;49;00m\u001b[33mHello, I\u001b[39;49;00m\u001b[33m'\u001b[39;49;00m\u001b[33mm \u001b[39;49;00m\u001b[33m\"\u001b[39;49;00m + \u001b[36mstr\u001b[39;49;00m(\u001b[36mself\u001b[39;49;00m))\n",
      "13         \n",
      "14     \u001b[34mdef\u001b[39;49;00m \u001b[32m__str__\u001b[39;49;00m(\u001b[36mself\u001b[39;49;00m):\n",
      "15         \u001b[34mreturn\u001b[39;49;00m \u001b[36mself\u001b[39;49;00m._name + \u001b[33m\"\u001b[39;49;00m\u001b[33m, \u001b[39;49;00m\u001b[33m\"\u001b[39;49;00m + \u001b[36mself\u001b[39;49;00m._email\n",
      "16 \n",
      "17 \n",
      "18 users_list = [User(\u001b[33m\"\u001b[39;49;00m\u001b[33mtest1\u001b[39;49;00m\u001b[33m\"\u001b[39;49;00m, \u001b[33m\"\u001b[39;49;00m\u001b[33mtest1@mail.com\u001b[39;49;00m\u001b[33m\"\u001b[39;49;00m), User(\u001b[33m\"\u001b[39;49;00m\u001b[33mtest2\u001b[39;49;00m\u001b[33m\"\u001b[39;49;00m, \u001b[33m\"\u001b[39;49;00m\u001b[33mtest2@notmail.com\u001b[39;49;00m\u001b[33m\"\u001b[39;49;00m), User(\u001b[33m\"\u001b[39;49;00m\u001b[33mtest3\u001b[39;49;00m\u001b[33m\"\u001b[39;49;00m, \u001b[33m\"\u001b[39;49;00m\u001b[33mtest3@somewhatmail.com\u001b[39;49;00m\u001b[33m\"\u001b[39;49;00m)]\n",
      "19 \n",
      "20 \u001b[34mfor\u001b[39;49;00m user \u001b[35min\u001b[39;49;00m users_list:\n",
      "21     user.do_something()\n",
      "22 "
     ]
    }
   ],
   "source": [
    "print_file('myUser.py')"
   ]
  },
  {
   "cell_type": "markdown",
   "metadata": {},
   "source": [
    "Pretty straightforward. There is a \"User\" class that contains two instance variables named \"\\_name\" and \"\\_email\" that can be accessed using the \"get_name\" and \"get_email' methods and there's \"do_something\" method that prints out the user's name and email in a formatted string. There is a list named \"users_list\" that contain 2 User instances. "
   ]
  },
  {
   "cell_type": "markdown",
   "metadata": {},
   "source": [
    "## Extracting variable values\n",
    "\n",
    "We wish to extract the names and emails of both the User instances in the \"users_list\" list.\n",
    "\n",
    "\n",
    "For this, we set a breakpoint on line no 21 in myUser.py"
   ]
  },
  {
   "cell_type": "markdown",
   "metadata": {},
   "source": [
    "### Each of the following executions have been discussed and explained in the cell before it."
   ]
  },
  {
   "cell_type": "markdown",
   "metadata": {},
   "source": [
    "### Object instantiation\n",
    "We create an instance of clientClass called myClass. At creation, myClass creates an instance of connectionClass within itself.\n",
    "That instance established a connection with the debugger. If this is the first time the debugger is being connected to, it responds with a message detailing the DAP output event that has been triggered. Otherwise, it doesn't respond anything and our socket read times out after 5 seconds"
   ]
  },
  {
   "cell_type": "code",
   "execution_count": 93,
   "metadata": {},
   "outputs": [
    {
     "name": "stdout",
     "output_type": "stream",
     "text": [
      "Received data:\n",
      "Content-Length: 130\n",
      "{'body': {'category': 'telemetry',\n",
      "          'data': {'version': '4.3.2'},\n",
      "          'output': 'ptvsd'},\n",
      " 'event': 'output',\n",
      " 'seq': 0,\n",
      " 'type': 'event'}\n",
      "\n"
     ]
    }
   ],
   "source": [
    "myClass = clientClass(\"myUser.py\")"
   ]
  },
  {
   "cell_type": "markdown",
   "metadata": {},
   "source": [
    "### Attaching to the debugger\n",
    "\n",
    "We have just opened a connection to the server, we need to attach our client to the debugger. We do this by calling the **attach_to_server** method of myClass.\n",
    "\n",
    "We observe that the response to the \"attach\" request has been successful (success=True) in the first response. \n",
    "\n",
    "We also observe that ptvsd sends multiple responses to our debug client, each with different details. The second response is that \"process\" event has happened. This event indicates that the debugger has begun debugging a new process. Either one that it has launched, or one that it has attached to.\n",
    "\n",
    "The final response by the server is the internal reference number of the thread that has been started. It is 1 in this case. It is always 1 when there a single threaded process is running."
   ]
  },
  {
   "cell_type": "code",
   "execution_count": 94,
   "metadata": {},
   "outputs": [
    {
     "name": "stdout",
     "output_type": "stream",
     "text": [
      "Sending data: Content-Length: 91\n",
      "{'arguments': {'name': 'client_class'},\n",
      " 'command': 'attach',\n",
      " 'seq': 109,\n",
      " 'type': 'request'}\n",
      "\n",
      "Received data:\n",
      "Content-Length: 115\n",
      "{'body': {},\n",
      " 'command': 'attach',\n",
      " 'message': '',\n",
      " 'request_seq': 109,\n",
      " 'seq': 1,\n",
      " 'success': True,\n",
      " 'type': 'response'}\n",
      "\n",
      "Received data:\n",
      "Content-Length: 151\n",
      "{'body': {'isLocalProcess': True,\n",
      "          'name': 'myUser.py',\n",
      "          'startMethod': 'attach',\n",
      "          'systemProcessId': 615},\n",
      " 'event': 'process',\n",
      " 'seq': 2,\n",
      " 'type': 'event'}\n",
      "\n",
      "Received data:\n",
      "Content-Length: 92\n",
      "{'body': {'reason': 'started', 'threadId': 1},\n",
      " 'event': 'thread',\n",
      " 'seq': 3,\n",
      " 'type': 'event'}\n",
      "\n"
     ]
    }
   ],
   "source": [
    "myClass.attach_to_server()"
   ]
  },
  {
   "cell_type": "markdown",
   "metadata": {},
   "source": [
    "### Setting breakpoints\n",
    "\n",
    "Here we set breakpoints. This message is to be always preceded by the \"initialise\" request and always followed by the \"configurationDone\" request. Without the \"initialise\" method, the debugger won't set the breakpoints, and without the \"configurationDone\" request, it won't continue execution.\n",
    "\n",
    "Hence, our first message is \"initialise\". We receive 2 responses. The first notifies the client what requests is allowed with this initialise method. The second confirms that the process has been initialised.\n",
    "\n",
    "Our second message is \"setBreakpoints\". In this case, we receive one response with the list of lines where the breakpoints have been set.\n",
    "\n",
    "Our third message is \"configurationDone\". This request evokes one response that the request was successful.\n",
    "\n",
    "After that the debugger continues execution (it always does that when we send the \"configurationDone\" request). And in its execution, the stopped event happens because it hits the breakpoints we just set. This is the final message.\n",
    "\n",
    "**N.B. To remove breakpoints, execute set_breakpoints with an empty list**"
   ]
  },
  {
   "cell_type": "code",
   "execution_count": 95,
   "metadata": {
    "scrolled": false
   },
   "outputs": [
    {
     "name": "stdout",
     "output_type": "stream",
     "text": [
      "Sending data: Content-Length: 319\n",
      "{'arguments': {'adapterID': 'pydevd',\n",
      "               'clientID': 'clientClass',\n",
      "               'clientName': 'client.py',\n",
      "               'columnsStartAt1': True,\n",
      "               'linesStartAt1': True,\n",
      "               'pathFormat': 'path',\n",
      "               'supportsRunInTerminalRequest': True,\n",
      "               'supportsVariablePaging': False,\n",
      "               'supportsVariableType': True},\n",
      " 'command': 'initialize',\n",
      " 'seq': 110,\n",
      " 'type': 'request'}\n",
      "\n",
      "Received data:\n",
      "Content-Length: 867\n",
      "{'body': {'exceptionBreakpointFilters': [{'default': False,\n",
      "                                          'filter': 'raised',\n",
      "                                          'label': 'Raised Exceptions'},\n",
      "                                         {'default': True,\n",
      "                                          'filter': 'uncaught',\n",
      "                                          'label': 'Uncaught Exceptions'}],\n",
      "          'supportTerminateDebuggee': True,\n",
      "          'supportsCompletionsRequest': True,\n",
      "          'supportsConditionalBreakpoints': True,\n",
      "          'supportsConfigurationDoneRequest': True,\n",
      "          'supportsDebuggerProperties': True,\n",
      "          'supportsDelayedStackTraceLoading': True,\n",
      "          'supportsEvaluateForHovers': True,\n",
      "          'supportsExceptionInfoRequest': True,\n",
      "          'supportsExceptionOptions': True,\n",
      "          'supportsGotoTargetsRequest': True,\n",
      "          'supportsHitConditionalBreakpoints': True,\n",
      "          'supportsLogPoints': True,\n",
      "          'supportsModulesRequest': True,\n",
      "          'supportsSetExpression': True,\n",
      "          'supportsSetVariable': True,\n",
      "          'supportsValueFormattingOptions': True},\n",
      " 'command': 'initialize',\n",
      " 'message': '',\n",
      " 'request_seq': 110,\n",
      " 'seq': 4,\n",
      " 'success': True,\n",
      " 'type': 'response'}\n",
      "\n",
      "Received data:\n",
      "Content-Length: 63\n",
      "{'body': {}, 'event': 'initialized', 'seq': 5, 'type': 'event'}\n",
      "\n",
      "Sending data: Content-Length: 139\n",
      "{'arguments': {'breakpoints': [{'line': 21}], 'source': {'path': 'myUser.py'}},\n",
      " 'command': 'setBreakpoints',\n",
      " 'seq': 111,\n",
      " 'type': 'request'}\n",
      "\n",
      "Received data:\n",
      "Content-Length: 212\n",
      "{'body': {'breakpoints': [{'id': 0,\n",
      "                           'line': 21,\n",
      "                           'source': {'path': 'myUser.py'},\n",
      "                           'verified': True}]},\n",
      " 'command': 'setBreakpoints',\n",
      " 'message': '',\n",
      " 'request_seq': 111,\n",
      " 'seq': 6,\n",
      " 'success': True,\n",
      " 'type': 'response'}\n",
      "\n",
      "Sending data: Content-Length: 63\n",
      "{'command': 'configurationDone', 'seq': 112, 'type': 'request'}\n",
      "\n",
      "Received data:\n",
      "Content-Length: 126\n",
      "{'body': {},\n",
      " 'command': 'configurationDone',\n",
      " 'message': '',\n",
      " 'request_seq': 112,\n",
      " 'seq': 7,\n",
      " 'success': True,\n",
      " 'type': 'response'}\n",
      "\n",
      "Received data:\n",
      "Content-Length: 151\n",
      "{'body': {'allThreadsStopped': True,\n",
      "          'preserveFocusHint': False,\n",
      "          'reason': 'breakpoint',\n",
      "          'threadId': 1},\n",
      " 'event': 'stopped',\n",
      " 'seq': 8,\n",
      " 'type': 'event'}\n",
      "\n"
     ]
    }
   ],
   "source": [
    "myClass.set_breakpoints([21])"
   ]
  },
  {
   "cell_type": "markdown",
   "metadata": {},
   "source": [
    "### Getting breakpoint location.\n",
    "\n",
    "**The thread, whose variable we are interested in, needs to be in \"stopped\" state before we can execute the following command**\n",
    "\n",
    "Since the debuggee is already stopped, we can query where is it stopped.\n",
    "Please note that in the previous cell, when the process/thread was stopped, it didn't respond with the line number of where it stopped.\n",
    "\n",
    "We can only get that info by a \"stacktrace\" request. This request will also be used as you will see in the following sections, for other purposes, especially for getting variable values and, as the name suggests, getting other details of the stack."
   ]
  },
  {
   "cell_type": "markdown",
   "metadata": {},
   "source": [
    "We see that our debuggee program \"myUser.py\" has the stack frame id '2' (because it is running as a module in debug_server.ipynb).\n",
    "We also notice that the stack is currently on line no 21, which is where we had st a breakpoint. In case of multiple breakpoints, we will get an update of where the line currently is."
   ]
  },
  {
   "cell_type": "code",
   "execution_count": 96,
   "metadata": {
    "scrolled": false
   },
   "outputs": [
    {
     "name": "stdout",
     "output_type": "stream",
     "text": [
      "Sending data: Content-Length: 86\n",
      "{'arguments': {'threadId': 1},\n",
      " 'command': 'stackTrace',\n",
      " 'seq': 113,\n",
      " 'type': 'request'}\n",
      "\n",
      "Received data:\n",
      "Content-Length: 158\n",
      "{'body': {'module': {'id': 0,\n",
      "                     'name': '__main__',\n",
      "                     'path': '/home/jovyan/work/HiWi/myUser.py'},\n",
      "          'reason': 'new'},\n",
      " 'event': 'module',\n",
      " 'seq': 9,\n",
      " 'type': 'event'}\n",
      "\n",
      "Received data:\n",
      "Content-Length: 157\n",
      "{'body': {'module': {'id': 1,\n",
      "                     'name': 'runpy',\n",
      "                     'path': '/opt/conda/lib/python3.6/runpy.py'},\n",
      "          'reason': 'new'},\n",
      " 'event': 'module',\n",
      " 'seq': 10,\n",
      " 'type': 'event'}\n",
      "\n",
      "Received data:\n",
      "Content-Length: 287\n",
      "{'body': {'stackFrames': [{'column': 1,\n",
      "                           'id': 2,\n",
      "                           'line': 21,\n",
      "                           'name': '<module>',\n",
      "                           'source': {'path': '/home/jovyan/work/HiWi/myUser.py',\n",
      "                                      'sourceReference': 0}}],\n",
      "          'totalFrames': 1},\n",
      " 'command': 'stackTrace',\n",
      " 'message': '',\n",
      " 'request_seq': 113,\n",
      " 'seq': 11,\n",
      " 'success': True,\n",
      " 'type': 'response'}\n",
      "\n"
     ]
    }
   ],
   "source": [
    "myClass.get_stack_trace(1)"
   ]
  },
  {
   "cell_type": "markdown",
   "metadata": {},
   "source": [
    "### Step in and Step out\n",
    "\n",
    "**The thread, whose variable we are interested in, needs to be in \"stopped\" state before we can execute the following command**\n",
    "\n",
    "- As mentioned in the description of clientClass, if there is nothing to step into at a given point, step_in behaves identical to \"next\". We will observe this phenomenon and also what happens when we step into a function and how they both are different.\n",
    "\n",
    "- As mentioned in the description of clientClass, if there is nothing to step out of at a given point, step_out behaves weirdly (meaning I haven't been able to figure out exactly what's happening and I don't know what is the correct expected behaviour), so please be careful when stepping out\n",
    "\n",
    "Since we know that the process is stopped at line no 21, which is a for loop check, step_in won't step into something but just behave like \"next\", which we will see later in a different section."
   ]
  },
  {
   "cell_type": "code",
   "execution_count": 97,
   "metadata": {
    "scrolled": false
   },
   "outputs": [
    {
     "name": "stdout",
     "output_type": "stream",
     "text": [
      "Sending data: Content-Length: 82\n",
      "{'arguments': {'threadId': 1},\n",
      " 'command': 'stepIn',\n",
      " 'seq': 114,\n",
      " 'type': 'request'}\n",
      "\n",
      "Received data:\n",
      "Content-Length: 116\n",
      "{'body': {},\n",
      " 'command': 'stepIn',\n",
      " 'message': '',\n",
      " 'request_seq': 114,\n",
      " 'seq': 12,\n",
      " 'success': True,\n",
      " 'type': 'response'}\n",
      "\n",
      "Received data:\n",
      "Content-Length: 104\n",
      "{'body': {'allThreadsContinued': True, 'threadId': 1},\n",
      " 'event': 'continued',\n",
      " 'seq': 13,\n",
      " 'type': 'event'}\n",
      "\n",
      "Received data:\n",
      "Content-Length: 146\n",
      "{'body': {'allThreadsStopped': True,\n",
      "          'preserveFocusHint': False,\n",
      "          'reason': 'step',\n",
      "          'threadId': 1},\n",
      " 'event': 'stopped',\n",
      " 'seq': 14,\n",
      " 'type': 'event'}\n",
      "\n"
     ]
    }
   ],
   "source": [
    "myClass.step_in(1)"
   ]
  },
  {
   "cell_type": "markdown",
   "metadata": {},
   "source": [
    "- We will see in the next command that since there was nothing to step into, step_in behaved exactly like a \"next\" command."
   ]
  },
  {
   "cell_type": "code",
   "execution_count": 98,
   "metadata": {
    "scrolled": true
   },
   "outputs": [
    {
     "name": "stdout",
     "output_type": "stream",
     "text": [
      "Sending data: Content-Length: 86\n",
      "{'arguments': {'threadId': 1},\n",
      " 'command': 'stackTrace',\n",
      " 'seq': 115,\n",
      " 'type': 'request'}\n",
      "\n",
      "Received data:\n",
      "Content-Length: 287\n",
      "{'body': {'stackFrames': [{'column': 1,\n",
      "                           'id': 2,\n",
      "                           'line': 22,\n",
      "                           'name': '<module>',\n",
      "                           'source': {'path': '/home/jovyan/work/HiWi/myUser.py',\n",
      "                                      'sourceReference': 0}}],\n",
      "          'totalFrames': 1},\n",
      " 'command': 'stackTrace',\n",
      " 'message': '',\n",
      " 'request_seq': 115,\n",
      " 'seq': 15,\n",
      " 'success': True,\n",
      " 'type': 'response'}\n",
      "\n"
     ]
    }
   ],
   "source": [
    "myClass.get_stack_trace(1)"
   ]
  },
  {
   "cell_type": "markdown",
   "metadata": {},
   "source": [
    "- Line 22 contains a call to \"do_something\" method of the User class, something we can step into. So, we run step_in again and observe the output of stack_trace."
   ]
  },
  {
   "cell_type": "code",
   "execution_count": 99,
   "metadata": {
    "scrolled": true
   },
   "outputs": [
    {
     "name": "stdout",
     "output_type": "stream",
     "text": [
      "Sending data: Content-Length: 82\n",
      "{'arguments': {'threadId': 1},\n",
      " 'command': 'stepIn',\n",
      " 'seq': 116,\n",
      " 'type': 'request'}\n",
      "\n",
      "Received data:\n",
      "Content-Length: 116\n",
      "{'body': {},\n",
      " 'command': 'stepIn',\n",
      " 'message': '',\n",
      " 'request_seq': 116,\n",
      " 'seq': 16,\n",
      " 'success': True,\n",
      " 'type': 'response'}\n",
      "\n",
      "Received data:\n",
      "Content-Length: 104\n",
      "{'body': {'allThreadsContinued': True, 'threadId': 1},\n",
      " 'event': 'continued',\n",
      " 'seq': 17,\n",
      " 'type': 'event'}\n",
      "\n",
      "Received data:\n",
      "Content-Length: 146\n",
      "{'body': {'allThreadsStopped': True,\n",
      "          'preserveFocusHint': False,\n",
      "          'reason': 'step',\n",
      "          'threadId': 1},\n",
      " 'event': 'stopped',\n",
      " 'seq': 18,\n",
      " 'type': 'event'}\n",
      "\n"
     ]
    }
   ],
   "source": [
    "myClass.step_in(1)"
   ]
  },
  {
   "cell_type": "markdown",
   "metadata": {},
   "source": [
    "- We see in the next command that now we have an additional frame since we stepped into the \"do_something\" method. This has the frame id value 3."
   ]
  },
  {
   "cell_type": "code",
   "execution_count": 100,
   "metadata": {},
   "outputs": [
    {
     "name": "stdout",
     "output_type": "stream",
     "text": [
      "Sending data: Content-Length: 86\n",
      "{'arguments': {'threadId': 1},\n",
      " 'command': 'stackTrace',\n",
      " 'seq': 117,\n",
      " 'type': 'request'}\n",
      "\n",
      "Received data:\n",
      "Content-Length: 425\n",
      "{'body': {'stackFrames': [{'column': 1,\n",
      "                           'id': 3,\n",
      "                           'line': 13,\n",
      "                           'name': 'do_something',\n",
      "                           'source': {'path': '/home/jovyan/work/HiWi/myUser.py',\n",
      "                                      'sourceReference': 0}},\n",
      "                          {'column': 1,\n",
      "                           'id': 2,\n",
      "                           'line': 22,\n",
      "                           'name': '<module>',\n",
      "                           'source': {'path': '/home/jovyan/work/HiWi/myUser.py',\n",
      "                                      'sourceReference': 0}}],\n",
      "          'totalFrames': 2},\n",
      " 'command': 'stackTrace',\n",
      " 'message': '',\n",
      " 'request_seq': 117,\n",
      " 'seq': 19,\n",
      " 'success': True,\n",
      " 'type': 'response'}\n",
      "\n"
     ]
    }
   ],
   "source": [
    "myClass.get_stack_trace(1)"
   ]
  },
  {
   "cell_type": "markdown",
   "metadata": {},
   "source": [
    "#### Now we step out of this do_something method and observe the stack trace again.\n",
    "\n",
    "We could have continued within the \"do_something\" frame with the \"next\" command but it has only one line of code so that would have been equivalent to stepping out."
   ]
  },
  {
   "cell_type": "code",
   "execution_count": 101,
   "metadata": {
    "scrolled": true
   },
   "outputs": [
    {
     "name": "stdout",
     "output_type": "stream",
     "text": [
      "Sending data: Content-Length: 83\n",
      "{'arguments': {'threadId': 1},\n",
      " 'command': 'stepOut',\n",
      " 'seq': 118,\n",
      " 'type': 'request'}\n",
      "\n",
      "Received data:\n",
      "Content-Length: 117\n",
      "{'body': {},\n",
      " 'command': 'stepOut',\n",
      " 'message': '',\n",
      " 'request_seq': 118,\n",
      " 'seq': 20,\n",
      " 'success': True,\n",
      " 'type': 'response'}\n",
      "\n",
      "Received data:\n",
      "Content-Length: 104\n",
      "{'body': {'allThreadsContinued': True, 'threadId': 1},\n",
      " 'event': 'continued',\n",
      " 'seq': 21,\n",
      " 'type': 'event'}\n",
      "\n",
      "Received data:\n",
      "Content-Length: 146\n",
      "{'body': {'allThreadsStopped': True,\n",
      "          'preserveFocusHint': True,\n",
      "          'reason': 'pause',\n",
      "          'threadId': 1},\n",
      " 'event': 'stopped',\n",
      " 'seq': 22,\n",
      " 'type': 'event'}\n",
      "\n"
     ]
    }
   ],
   "source": [
    "myClass.step_out(1)"
   ]
  },
  {
   "cell_type": "markdown",
   "metadata": {},
   "source": [
    "- If you go observe the debug_server.ipynb, we see that one of the users' details have been printed.\n",
    "- We also see in the output of the stackTrace command in the following cell that it has exited the do_something method's frame."
   ]
  },
  {
   "cell_type": "code",
   "execution_count": 102,
   "metadata": {},
   "outputs": [
    {
     "name": "stdout",
     "output_type": "stream",
     "text": [
      "Sending data: Content-Length: 86\n",
      "{'arguments': {'threadId': 1},\n",
      " 'command': 'stackTrace',\n",
      " 'seq': 119,\n",
      " 'type': 'request'}\n",
      "\n",
      "Received data:\n",
      "Content-Length: 287\n",
      "{'body': {'stackFrames': [{'column': 1,\n",
      "                           'id': 2,\n",
      "                           'line': 22,\n",
      "                           'name': '<module>',\n",
      "                           'source': {'path': '/home/jovyan/work/HiWi/myUser.py',\n",
      "                                      'sourceReference': 0}}],\n",
      "          'totalFrames': 1},\n",
      " 'command': 'stackTrace',\n",
      " 'message': '',\n",
      " 'request_seq': 119,\n",
      " 'seq': 23,\n",
      " 'success': True,\n",
      " 'type': 'response'}\n",
      "\n"
     ]
    }
   ],
   "source": [
    "myClass.get_stack_trace(1)"
   ]
  },
  {
   "cell_type": "markdown",
   "metadata": {},
   "source": [
    "### Getting variables\n",
    "\n",
    "**The thread, whose variable we are interested in, needs to be in \"stopped\" state before we can execute the following commands**"
   ]
  },
  {
   "cell_type": "markdown",
   "metadata": {},
   "source": [
    "Getting variables is trickier than the other commands we have executed so far. Attaching was a single command, setting breakpoints required 3 commands. Getting variable details could require many more."
   ]
  },
  {
   "cell_type": "markdown",
   "metadata": {},
   "source": [
    "We can't directly query the debug server for the variable details (because the server itself doesn't have the data to find out the values).  To get variables, we need the scope frame i.e. the frame of the stack which contains the variables. \n",
    "\n",
    "But we also can't directly query the server for the frame as the server doesn't hold this data in itself at this point. To get the stack frame, we need to query for the list of stacks. Once we ask the server for a copy of the stacks, the server reads and returns the values, as well as stores the state locally which can now be queried."
   ]
  },
  {
   "cell_type": "markdown",
   "metadata": {},
   "source": [
    " - So we first query for the stack. We execute this using the 'stackTrace' command that returns all the stack frames.\n",
    " \n",
    " We get similar response as the previous sections. Here, we will use this information to extract details about variables"
   ]
  },
  {
   "cell_type": "code",
   "execution_count": 103,
   "metadata": {
    "scrolled": true
   },
   "outputs": [
    {
     "name": "stdout",
     "output_type": "stream",
     "text": [
      "Sending data: Content-Length: 86\n",
      "{'arguments': {'threadId': 1},\n",
      " 'command': 'stackTrace',\n",
      " 'seq': 120,\n",
      " 'type': 'request'}\n",
      "\n",
      "Received data:\n",
      "Content-Length: 287\n",
      "{'body': {'stackFrames': [{'column': 1,\n",
      "                           'id': 2,\n",
      "                           'line': 22,\n",
      "                           'name': '<module>',\n",
      "                           'source': {'path': '/home/jovyan/work/HiWi/myUser.py',\n",
      "                                      'sourceReference': 0}}],\n",
      "          'totalFrames': 1},\n",
      " 'command': 'stackTrace',\n",
      " 'message': '',\n",
      " 'request_seq': 120,\n",
      " 'seq': 24,\n",
      " 'success': True,\n",
      " 'type': 'response'}\n",
      "\n"
     ]
    }
   ],
   "source": [
    "myClass.get_stack_trace(1)"
   ]
  },
  {
   "cell_type": "markdown",
   "metadata": {},
   "source": [
    "- Now we query for the frame details using the frameid '2'.\n",
    "\n",
    "The request returns the variable scopes for a given stackframe ID, which we can use to query for our variables."
   ]
  },
  {
   "cell_type": "code",
   "execution_count": 104,
   "metadata": {},
   "outputs": [
    {
     "name": "stdout",
     "output_type": "stream",
     "text": [
      "Sending data: Content-Length: 81\n",
      "{'arguments': {'frameId': 2},\n",
      " 'command': 'scopes',\n",
      " 'seq': 121,\n",
      " 'type': 'request'}\n",
      "\n",
      "Received data:\n",
      "Content-Length: 205\n",
      "{'body': {'scopes': [{'expensive': False,\n",
      "                      'name': 'Locals',\n",
      "                      'source': {},\n",
      "                      'variablesReference': 2}]},\n",
      " 'command': 'scopes',\n",
      " 'message': '',\n",
      " 'request_seq': 121,\n",
      " 'seq': 25,\n",
      " 'success': True,\n",
      " 'type': 'response'}\n",
      "\n"
     ]
    }
   ],
   "source": [
    "myClass.get_scopes(2)"
   ]
  },
  {
   "cell_type": "markdown",
   "metadata": {},
   "source": [
    "- We query using the variableReference 2.\n",
    "\n",
    "The variablesReference is a required parameter whose value we can only derive using \"stackTrace\" and then the \"scopes\" request. For now, we explore what the variableReference 2 contains. Passing any other value now, will result in a failure response from the server.\n",
    "\n",
    "We see that the variable contains a lot of details. The variableReference 3 contains details about the \"User\" class. Our variable of interest, the \"users_list\" list has the variableReference 4. We use this value to query further for the contents of the users_list list."
   ]
  },
  {
   "cell_type": "code",
   "execution_count": 105,
   "metadata": {
    "scrolled": true
   },
   "outputs": [
    {
     "name": "stdout",
     "output_type": "stream",
     "text": [
      "Sending data: Content-Length: 95\n",
      "{'arguments': {'variablesReference': 2},\n",
      " 'command': 'variables',\n",
      " 'seq': 122,\n",
      " 'type': 'request'}\n",
      "\n",
      "Received data:\n",
      "Content-Length: 2515\n",
      "{'body': {'variables': [{'evaluateName': 'User',\n",
      "                         'name': 'User',\n",
      "                         'type': 'type',\n",
      "                         'value': \"<class '__main__.User'>\",\n",
      "                         'variablesReference': 4},\n",
      "                        {'evaluateName': 'user',\n",
      "                         'name': 'user',\n",
      "                         'type': 'User',\n",
      "                         'value': '<__main__.User object at 0x7f762d204cc0>',\n",
      "                         'variablesReference': 5},\n",
      "                        {'evaluateName': 'users_list',\n",
      "                         'name': 'users_list',\n",
      "                         'type': 'list',\n",
      "                         'value': '[<__main__.User objec...62d204cc0>, '\n",
      "                                  '<__main__.User objec...62d204e48>, '\n",
      "                                  '<__main__.User objec...62d204e80>]',\n",
      "                         'variablesReference': 6},\n",
      "                        {'evaluateName': '_pydev_stop_at_break',\n",
      "                         'name': '_pydev_stop_at_break',\n",
      "                         'type': 'function',\n",
      "                         'value': '<function _pydev_stop_at_break at '\n",
      "                                  '0x7f7630be2ae8>',\n",
      "                         'variablesReference': 7},\n",
      "                        {'evaluateName': '__builtins__',\n",
      "                         'name': '__builtins__',\n",
      "                         'type': 'dict',\n",
      "                         'value': \"{'ArithmeticError': <class \"\n",
      "                                  \"'ArithmeticError'>, 'AssertionError': \"\n",
      "                                  \"<class 'AssertionError'>, 'AttributeError': \"\n",
      "                                  \"<class 'AttributeError'>, 'BaseException': \"\n",
      "                                  \"<class 'BaseException'>, 'BlockingIOError': \"\n",
      "                                  \"<class 'BlockingIOError'>, \"\n",
      "                                  \"'BrokenPipeError': <class \"\n",
      "                                  \"'BrokenPipeError'>, 'BufferError': <class \"\n",
      "                                  \"'BufferError'>, 'BytesWarning': <class \"\n",
      "                                  \"'BytesWarning'>, 'ChildProcessError': \"\n",
      "                                  \"<class 'ChildProcessError'>, \"\n",
      "                                  \"'ConnectionAbortedError': <class \"\n",
      "                                  \"'ConnectionAb...tedError'>, \"\n",
      "                                  \"'ConnectionError': <class \"\n",
      "                                  \"'ConnectionError'>, \"\n",
      "                                  \"'ConnectionRefusedError': <class \"\n",
      "                                  \"'ConnectionRe...sedError'>, \"\n",
      "                                  \"'ConnectionResetError': <class \"\n",
      "                                  \"'ConnectionResetError'>, \"\n",
      "                                  \"'DeprecationWarning': <class \"\n",
      "                                  \"'DeprecationWarning'>, ...}\",\n",
      "                         'variablesReference': 8},\n",
      "                        {'evaluateName': '__cached__',\n",
      "                         'name': '__cached__',\n",
      "                         'type': 'NoneType',\n",
      "                         'value': 'None',\n",
      "                         'variablesReference': 0},\n",
      "                        {'evaluateName': '__doc__',\n",
      "                         'name': '__doc__',\n",
      "                         'type': 'NoneType',\n",
      "                         'value': 'None',\n",
      "                         'variablesReference': 0},\n",
      "                        {'evaluateName': '__file__',\n",
      "                         'name': '__file__',\n",
      "                         'presentationHint': {'attributes': ['rawString']},\n",
      "                         'type': 'str',\n",
      "                         'value': \"'myUser.py'\",\n",
      "                         'variablesReference': 0},\n",
      "                        {'evaluateName': '__loader__',\n",
      "                         'name': '__loader__',\n",
      "                         'type': 'NoneType',\n",
      "                         'value': 'None',\n",
      "                         'variablesReference': 0},\n",
      "                        {'evaluateName': '__name__',\n",
      "                         'name': '__name__',\n",
      "                         'presentationHint': {'attributes': ['rawString']},\n",
      "                         'type': 'str',\n",
      "                         'value': \"'__main__'\",\n",
      "                         'variablesReference': 0},\n",
      "                        {'evaluateName': '__package__',\n",
      "                         'name': '__package__',\n",
      "                         'presentationHint': {'attributes': ['rawString']},\n",
      "                         'type': 'str',\n",
      "                         'value': \"''\",\n",
      "                         'variablesReference': 0},\n",
      "                        {'evaluateName': '__spec__',\n",
      "                         'name': '__spec__',\n",
      "                         'type': 'NoneType',\n",
      "                         'value': 'None',\n",
      "                         'variablesReference': 0}]},\n",
      " 'command': 'variables',\n",
      " 'message': '',\n",
      " 'request_seq': 122,\n",
      " 'seq': 26,\n",
      " 'success': True,\n",
      " 'type': 'response'}\n",
      "\n"
     ]
    }
   ],
   "source": [
    "myClass.get_variables(2)"
   ]
  },
  {
   "cell_type": "markdown",
   "metadata": {},
   "source": [
    "- Upon querying with the variableReference 6, we see that the three members of the list have the variableReference 5, 9 and 10 respectively"
   ]
  },
  {
   "cell_type": "code",
   "execution_count": 106,
   "metadata": {},
   "outputs": [
    {
     "name": "stdout",
     "output_type": "stream",
     "text": [
      "Sending data: Content-Length: 95\n",
      "{'arguments': {'variablesReference': 6},\n",
      " 'command': 'variables',\n",
      " 'seq': 123,\n",
      " 'type': 'request'}\n",
      "\n",
      "Received data:\n",
      "Content-Length: 719\n",
      "{'body': {'variables': [{'evaluateName': 'users_list[0]',\n",
      "                         'name': '0',\n",
      "                         'type': 'User',\n",
      "                         'value': '<__main__.User object at 0x7f762d204cc0>',\n",
      "                         'variablesReference': 5},\n",
      "                        {'evaluateName': 'users_list[1]',\n",
      "                         'name': '1',\n",
      "                         'type': 'User',\n",
      "                         'value': '<__main__.User object at 0x7f762d204e48>',\n",
      "                         'variablesReference': 9},\n",
      "                        {'evaluateName': 'users_list[2]',\n",
      "                         'name': '2',\n",
      "                         'type': 'User',\n",
      "                         'value': '<__main__.User object at 0x7f762d204e80>',\n",
      "                         'variablesReference': 10},\n",
      "                        {'evaluateName': 'len(users_list)',\n",
      "                         'name': '__len__',\n",
      "                         'presentationHint': {'attributes': ['readOnly']},\n",
      "                         'type': 'int',\n",
      "                         'value': '3',\n",
      "                         'variablesReference': 0}]},\n",
      " 'command': 'variables',\n",
      " 'message': '',\n",
      " 'request_seq': 123,\n",
      " 'seq': 27,\n",
      " 'success': True,\n",
      " 'type': 'response'}\n",
      "\n"
     ]
    }
   ],
   "source": [
    "myClass.get_variables(6)"
   ]
  },
  {
   "cell_type": "markdown",
   "metadata": {},
   "source": [
    "- Upon querying variableReference 5, we get the details of the first user instance, which is what we wanted all this while."
   ]
  },
  {
   "cell_type": "code",
   "execution_count": 107,
   "metadata": {},
   "outputs": [
    {
     "name": "stdout",
     "output_type": "stream",
     "text": [
      "Sending data: Content-Length: 95\n",
      "{'arguments': {'variablesReference': 5},\n",
      " 'command': 'variables',\n",
      " 'seq': 124,\n",
      " 'type': 'request'}\n",
      "\n",
      "Received data:\n",
      "Content-Length: 481\n",
      "{'body': {'variables': [{'evaluateName': 'users_list[0]._email',\n",
      "                         'name': '_email',\n",
      "                         'presentationHint': {'attributes': ['rawString']},\n",
      "                         'type': 'str',\n",
      "                         'value': \"'test1@mail.com'\",\n",
      "                         'variablesReference': 0},\n",
      "                        {'evaluateName': 'users_list[0]._name',\n",
      "                         'name': '_name',\n",
      "                         'presentationHint': {'attributes': ['rawString']},\n",
      "                         'type': 'str',\n",
      "                         'value': \"'test1'\",\n",
      "                         'variablesReference': 0}]},\n",
      " 'command': 'variables',\n",
      " 'message': '',\n",
      " 'request_seq': 124,\n",
      " 'seq': 28,\n",
      " 'success': True,\n",
      " 'type': 'response'}\n",
      "\n"
     ]
    }
   ],
   "source": [
    "myClass.get_variables(5)"
   ]
  },
  {
   "cell_type": "markdown",
   "metadata": {},
   "source": [
    "- Similarly, querying with variableReference 9 and 10 gives us the details of the second and third instances of Users respectively"
   ]
  },
  {
   "cell_type": "code",
   "execution_count": 108,
   "metadata": {},
   "outputs": [
    {
     "name": "stdout",
     "output_type": "stream",
     "text": [
      "Sending data: Content-Length: 95\n",
      "{'arguments': {'variablesReference': 9},\n",
      " 'command': 'variables',\n",
      " 'seq': 125,\n",
      " 'type': 'request'}\n",
      "\n",
      "Received data:\n",
      "Content-Length: 484\n",
      "{'body': {'variables': [{'evaluateName': 'users_list[1]._email',\n",
      "                         'name': '_email',\n",
      "                         'presentationHint': {'attributes': ['rawString']},\n",
      "                         'type': 'str',\n",
      "                         'value': \"'test2@notmail.com'\",\n",
      "                         'variablesReference': 0},\n",
      "                        {'evaluateName': 'users_list[1]._name',\n",
      "                         'name': '_name',\n",
      "                         'presentationHint': {'attributes': ['rawString']},\n",
      "                         'type': 'str',\n",
      "                         'value': \"'test2'\",\n",
      "                         'variablesReference': 0}]},\n",
      " 'command': 'variables',\n",
      " 'message': '',\n",
      " 'request_seq': 125,\n",
      " 'seq': 29,\n",
      " 'success': True,\n",
      " 'type': 'response'}\n",
      "\n"
     ]
    }
   ],
   "source": [
    "myClass.get_variables(9)"
   ]
  },
  {
   "cell_type": "code",
   "execution_count": 109,
   "metadata": {},
   "outputs": [
    {
     "name": "stdout",
     "output_type": "stream",
     "text": [
      "Sending data: Content-Length: 96\n",
      "{'arguments': {'variablesReference': 10},\n",
      " 'command': 'variables',\n",
      " 'seq': 126,\n",
      " 'type': 'request'}\n",
      "\n",
      "Received data:\n",
      "Content-Length: 489\n",
      "{'body': {'variables': [{'evaluateName': 'users_list[2]._email',\n",
      "                         'name': '_email',\n",
      "                         'presentationHint': {'attributes': ['rawString']},\n",
      "                         'type': 'str',\n",
      "                         'value': \"'test3@somewhatmail.com'\",\n",
      "                         'variablesReference': 0},\n",
      "                        {'evaluateName': 'users_list[2]._name',\n",
      "                         'name': '_name',\n",
      "                         'presentationHint': {'attributes': ['rawString']},\n",
      "                         'type': 'str',\n",
      "                         'value': \"'test3'\",\n",
      "                         'variablesReference': 0}]},\n",
      " 'command': 'variables',\n",
      " 'message': '',\n",
      " 'request_seq': 126,\n",
      " 'seq': 30,\n",
      " 'success': True,\n",
      " 'type': 'response'}\n",
      "\n"
     ]
    }
   ],
   "source": [
    "myClass.get_variables(10)"
   ]
  },
  {
   "cell_type": "markdown",
   "metadata": {},
   "source": [
    "### We continue to try the other methods we have in our client class - next and continue\n",
    "\n"
   ]
  },
  {
   "cell_type": "markdown",
   "metadata": {},
   "source": [
    "### The \"next\" request\n",
    "\n",
    "Now we try to run the next command, since we have hit a breakpoint, we see what happens next.\n",
    "We notice that the execution stops after one step because that is how \"next\" works in all debuggers.\n",
    "Notice the difference for the reason value. Here it is \"step\". When it hit a breakpoint, after we set the breakpoint, it was \"breakpoint\"\n",
    "\n",
    "The server returns 3 responses. The first one is a direct response of our request, which was successful here.\n",
    "The second describes the event that happened because of our request, which is \"continued\".\n",
    "The third describes the event \"stopped\" because it was done with the one step it had to execute.\n",
    "\n",
    "\n",
    "It is now stopped on line 21 -> right before the call to do_something() for the second member of users_list"
   ]
  },
  {
   "cell_type": "code",
   "execution_count": 110,
   "metadata": {
    "scrolled": true
   },
   "outputs": [
    {
     "name": "stdout",
     "output_type": "stream",
     "text": [
      "Sending data: Content-Length: 80\n",
      "{'arguments': {'threadId': 1}, 'command': 'next', 'seq': 127, 'type': 'request'}\n",
      "\n",
      "Received data:\n",
      "Content-Length: 114\n",
      "{'body': {},\n",
      " 'command': 'next',\n",
      " 'message': '',\n",
      " 'request_seq': 127,\n",
      " 'seq': 31,\n",
      " 'success': True,\n",
      " 'type': 'response'}\n",
      "\n",
      "Received data:\n",
      "Content-Length: 104\n",
      "{'body': {'allThreadsContinued': True, 'threadId': 1},\n",
      " 'event': 'continued',\n",
      " 'seq': 32,\n",
      " 'type': 'event'}\n",
      "\n",
      "Received data:\n",
      "Content-Length: 146\n",
      "{'body': {'allThreadsStopped': True,\n",
      "          'preserveFocusHint': False,\n",
      "          'reason': 'step',\n",
      "          'threadId': 1},\n",
      " 'event': 'stopped',\n",
      " 'seq': 33,\n",
      " 'type': 'event'}\n",
      "\n"
     ]
    }
   ],
   "source": [
    "#The next request starts the debuggee to run again for one step.\n",
    "#only works the debuggee is stopped\n",
    "myClass.next_step(1)"
   ]
  },
  {
   "cell_type": "markdown",
   "metadata": {},
   "source": [
    "- It is now stopped on line 21-> right before the call to do_something() for the second member of users_list. We confirm this by sending a StackTrace request."
   ]
  },
  {
   "cell_type": "code",
   "execution_count": 111,
   "metadata": {},
   "outputs": [
    {
     "name": "stdout",
     "output_type": "stream",
     "text": [
      "Sending data: Content-Length: 86\n",
      "{'arguments': {'threadId': 1},\n",
      " 'command': 'stackTrace',\n",
      " 'seq': 128,\n",
      " 'type': 'request'}\n",
      "\n",
      "Received data:\n",
      "Content-Length: 287\n",
      "{'body': {'stackFrames': [{'column': 1,\n",
      "                           'id': 2,\n",
      "                           'line': 21,\n",
      "                           'name': '<module>',\n",
      "                           'source': {'path': '/home/jovyan/work/HiWi/myUser.py',\n",
      "                                      'sourceReference': 0}}],\n",
      "          'totalFrames': 1},\n",
      " 'command': 'stackTrace',\n",
      " 'message': '',\n",
      " 'request_seq': 128,\n",
      " 'seq': 34,\n",
      " 'success': True,\n",
      " 'type': 'response'}\n",
      "\n"
     ]
    }
   ],
   "source": [
    "myClass.get_stack_trace(1)"
   ]
  },
  {
   "cell_type": "markdown",
   "metadata": {},
   "source": [
    "- If we execute \"next\" twice more, we will see that do_something() will print the details fo the second member in the debug_server.ipynb file.\n",
    "\n",
    "Indeed, check the debug_server.ipynb before executing the next command and after executing it and you will notice the difference."
   ]
  },
  {
   "cell_type": "code",
   "execution_count": 112,
   "metadata": {
    "scrolled": true
   },
   "outputs": [
    {
     "name": "stdout",
     "output_type": "stream",
     "text": [
      "Sending data: Content-Length: 80\n",
      "{'arguments': {'threadId': 1}, 'command': 'next', 'seq': 129, 'type': 'request'}\n",
      "\n",
      "Received data:\n",
      "Content-Length: 114\n",
      "{'body': {},\n",
      " 'command': 'next',\n",
      " 'message': '',\n",
      " 'request_seq': 129,\n",
      " 'seq': 35,\n",
      " 'success': True,\n",
      " 'type': 'response'}\n",
      "\n",
      "Received data:\n",
      "Content-Length: 104\n",
      "{'body': {'allThreadsContinued': True, 'threadId': 1},\n",
      " 'event': 'continued',\n",
      " 'seq': 36,\n",
      " 'type': 'event'}\n",
      "\n",
      "Received data:\n",
      "Content-Length: 146\n",
      "{'body': {'allThreadsStopped': True,\n",
      "          'preserveFocusHint': False,\n",
      "          'reason': 'step',\n",
      "          'threadId': 1},\n",
      " 'event': 'stopped',\n",
      " 'seq': 37,\n",
      " 'type': 'event'}\n",
      "\n"
     ]
    }
   ],
   "source": [
    "#The next request starts the debuggee to run again for one step.\n",
    "#only works the debuggee is stopped\n",
    "myClass.next_step(1)"
   ]
  },
  {
   "cell_type": "code",
   "execution_count": 113,
   "metadata": {
    "scrolled": true
   },
   "outputs": [
    {
     "name": "stdout",
     "output_type": "stream",
     "text": [
      "Sending data: Content-Length: 80\n",
      "{'arguments': {'threadId': 1}, 'command': 'next', 'seq': 130, 'type': 'request'}\n",
      "\n",
      "Received data:\n",
      "Content-Length: 114\n",
      "{'body': {},\n",
      " 'command': 'next',\n",
      " 'message': '',\n",
      " 'request_seq': 130,\n",
      " 'seq': 38,\n",
      " 'success': True,\n",
      " 'type': 'response'}\n",
      "\n",
      "Received data:\n",
      "Content-Length: 104\n",
      "{'body': {'allThreadsContinued': True, 'threadId': 1},\n",
      " 'event': 'continued',\n",
      " 'seq': 39,\n",
      " 'type': 'event'}\n",
      "\n",
      "Received data:\n",
      "Content-Length: 146\n",
      "{'body': {'allThreadsStopped': True,\n",
      "          'preserveFocusHint': False,\n",
      "          'reason': 'step',\n",
      "          'threadId': 1},\n",
      " 'event': 'stopped',\n",
      " 'seq': 40,\n",
      " 'type': 'event'}\n",
      "\n"
     ]
    }
   ],
   "source": [
    "#The next request starts the debuggee to run again for one step.\n",
    "#only works the debuggee is stopped\n",
    "myClass.next_step(1)"
   ]
  },
  {
   "cell_type": "code",
   "execution_count": 114,
   "metadata": {},
   "outputs": [
    {
     "name": "stdout",
     "output_type": "stream",
     "text": [
      "Sending data: Content-Length: 86\n",
      "{'arguments': {'threadId': 1},\n",
      " 'command': 'stackTrace',\n",
      " 'seq': 131,\n",
      " 'type': 'request'}\n",
      "\n",
      "Received data:\n",
      "Content-Length: 287\n",
      "{'body': {'stackFrames': [{'column': 1,\n",
      "                           'id': 2,\n",
      "                           'line': 21,\n",
      "                           'name': '<module>',\n",
      "                           'source': {'path': '/home/jovyan/work/HiWi/myUser.py',\n",
      "                                      'sourceReference': 0}}],\n",
      "          'totalFrames': 1},\n",
      " 'command': 'stackTrace',\n",
      " 'message': '',\n",
      " 'request_seq': 131,\n",
      " 'seq': 41,\n",
      " 'success': True,\n",
      " 'type': 'response'}\n",
      "\n"
     ]
    }
   ],
   "source": [
    "myClass.get_stack_trace(1)"
   ]
  },
  {
   "cell_type": "markdown",
   "metadata": {},
   "source": [
    "#### The continue request\n",
    "\n",
    "We now try the continue command\n",
    "\n",
    "The server again replies with 3 responses. The first and the second response is same as the \"next\" request's responses. The third one here is slightly different because it is the \"stopped\" event due to the breakpoint we had set, on line 21.\n",
    "\n",
    "We see, on debug_server.ipynb notebook that the details of the second User is also printed. However the execution isn't completed now, because even though there were just 3 members in the users_list, it will execute the check one more time before exiting the for loop."
   ]
  },
  {
   "cell_type": "code",
   "execution_count": 115,
   "metadata": {},
   "outputs": [
    {
     "name": "stdout",
     "output_type": "stream",
     "text": [
      "Sending data: Content-Length: 84\n",
      "{'arguments': {'threadId': 1},\n",
      " 'command': 'continue',\n",
      " 'seq': 132,\n",
      " 'type': 'request'}\n",
      "\n",
      "Received data:\n",
      "Content-Length: 145\n",
      "{'body': {'allThreadsContinued': True},\n",
      " 'command': 'continue',\n",
      " 'message': '',\n",
      " 'request_seq': 132,\n",
      " 'seq': 42,\n",
      " 'success': True,\n",
      " 'type': 'response'}\n",
      "\n",
      "Received data:\n",
      "Content-Length: 104\n",
      "{'body': {'allThreadsContinued': True, 'threadId': 1},\n",
      " 'event': 'continued',\n",
      " 'seq': 43,\n",
      " 'type': 'event'}\n",
      "\n",
      "Received data:\n",
      "Content-Length: 152\n",
      "{'body': {'allThreadsStopped': True,\n",
      "          'preserveFocusHint': False,\n",
      "          'reason': 'breakpoint',\n",
      "          'threadId': 1},\n",
      " 'event': 'stopped',\n",
      " 'seq': 44,\n",
      " 'type': 'event'}\n",
      "\n"
     ]
    }
   ],
   "source": [
    "myClass.continue_execution(1)"
   ]
  },
  {
   "cell_type": "markdown",
   "metadata": {},
   "source": [
    " - **Now we wrap up the execution by sending the \"continue\" request once more.**\n",
    " \n",
    " Notice that the debug_server that we started on debug_server.ipynb is still running. Once we do this, it will continue adn finish the execution (since there aren't any more breakpoints in its further execution)"
   ]
  },
  {
   "cell_type": "code",
   "execution_count": 116,
   "metadata": {},
   "outputs": [
    {
     "name": "stdout",
     "output_type": "stream",
     "text": [
      "Sending data: Content-Length: 84\n",
      "{'arguments': {'threadId': 1},\n",
      " 'command': 'continue',\n",
      " 'seq': 133,\n",
      " 'type': 'request'}\n",
      "\n",
      "Received data:\n",
      "Content-Length: 145\n",
      "{'body': {'allThreadsContinued': True},\n",
      " 'command': 'continue',\n",
      " 'message': '',\n",
      " 'request_seq': 133,\n",
      " 'seq': 45,\n",
      " 'success': True,\n",
      " 'type': 'response'}\n",
      "\n",
      "Received data:\n",
      "Content-Length: 104\n",
      "{'body': {'allThreadsContinued': True, 'threadId': 1},\n",
      " 'event': 'continued',\n",
      " 'seq': 46,\n",
      " 'type': 'event'}\n",
      "\n"
     ]
    }
   ],
   "source": [
    "myClass.continue_execution(1)"
   ]
  },
  {
   "cell_type": "markdown",
   "metadata": {},
   "source": [
    "#### Final read of the server. \n",
    "\n",
    "We finish this demo with a final read of the server, for any messages it may have sent. This will also close the socket on our end. If the socket server is already closed, it will return nothing."
   ]
  },
  {
   "cell_type": "code",
   "execution_count": 117,
   "metadata": {},
   "outputs": [],
   "source": [
    "myClass.read_server(cleanup=True)"
   ]
  },
  {
   "cell_type": "code",
   "execution_count": null,
   "metadata": {},
   "outputs": [],
   "source": []
  }
 ],
 "metadata": {
  "kernelspec": {
   "display_name": "Python 3",
   "language": "python",
   "name": "python3"
  },
  "language_info": {
   "codemirror_mode": {
    "name": "ipython",
    "version": 3
   },
   "file_extension": ".py",
   "mimetype": "text/x-python",
   "name": "python",
   "nbconvert_exporter": "python",
   "pygments_lexer": "ipython3",
   "version": "3.6.6"
  },
  "toc": {
   "base_numbering": 1,
   "nav_menu": {},
   "number_sections": true,
   "sideBar": true,
   "skip_h1_title": false,
   "title_cell": "Table of Contents",
   "title_sidebar": "Contents",
   "toc_cell": false,
   "toc_position": {
    "height": "calc(100% - 180px)",
    "left": "10px",
    "top": "150px",
    "width": "206.6px"
   },
   "toc_section_display": true,
   "toc_window_display": true
  },
  "varInspector": {
   "cols": {
    "lenName": 16,
    "lenType": 16,
    "lenVar": 40
   },
   "kernels_config": {
    "python": {
     "delete_cmd_postfix": "",
     "delete_cmd_prefix": "del ",
     "library": "var_list.py",
     "varRefreshCmd": "print(var_dic_list())"
    },
    "r": {
     "delete_cmd_postfix": ") ",
     "delete_cmd_prefix": "rm(",
     "library": "var_list.r",
     "varRefreshCmd": "cat(var_dic_list()) "
    }
   },
   "types_to_exclude": [
    "module",
    "function",
    "builtin_function_or_method",
    "instance",
    "_Feature"
   ],
   "window_display": false
  }
 },
 "nbformat": 4,
 "nbformat_minor": 2
}
